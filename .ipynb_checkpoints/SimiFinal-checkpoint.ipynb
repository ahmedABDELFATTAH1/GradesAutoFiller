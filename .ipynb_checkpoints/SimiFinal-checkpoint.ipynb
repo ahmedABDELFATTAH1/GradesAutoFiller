{
 "cells": [
  {
   "cell_type": "code",
   "execution_count": 94,
   "metadata": {},
   "outputs": [],
   "source": [
    "import cv2\n",
    "from skimage.exposure import histogram\n",
    "import numpy as np\n",
    "import matplotlib.pyplot as plt\n",
    "import math\n",
    "import xlwt \n",
    "import xlrd\n",
    "from xlwt import Workbook \n",
    "%matplotlib inline"
   ]
  },
  {
   "cell_type": "code",
   "execution_count": 95,
   "metadata": {},
   "outputs": [],
   "source": [
    "# Take the path of the image and return the Image\n",
    "def Read(Image):\n",
    "    Image = \"inputs/\" + Image\n",
    "    Original = cv2.imread(Image)\n",
    "    if Original is not None:\n",
    "        Copy = Original.copy()\n",
    "        Copy = cv2.cvtColor(Copy, cv2.COLOR_BGR2GRAY)\n",
    "        return [Original,Copy]\n",
    "    else:\n",
    "        return None"
   ]
  },
  {
   "cell_type": "code",
   "execution_count": 96,
   "metadata": {},
   "outputs": [],
   "source": [
    "def show(Image):\n",
    "    plt.imshow(Image , cmap = \"gray\")\n",
    "    plt.rcParams[\"figure.figsize\"] = (15,15)\n",
    "    plt.show()"
   ]
  },
  {
   "cell_type": "code",
   "execution_count": 97,
   "metadata": {},
   "outputs": [],
   "source": [
    "# Take an image and return the columns and rows of each circule\n",
    "def GetCircules(Image , minR , maxR):\n",
    "    Circles = cv2.HoughCircles(Image, cv2.HOUGH_GRADIENT, 1.2, 10 , param1=50 , param2=20 , minRadius=minR , maxRadius=maxR)\n",
    "    CirclesCopy = np.copy(Circles)\n",
    "    if Circles is not None:\n",
    "        Columns = Circles[0][:,0]\n",
    "        Columns.sort()\n",
    "        Rows = Circles[0][:,1]\n",
    "        Rows.sort()\n",
    "        return [CirclesCopy , Columns , Rows]\n",
    "    else:\n",
    "        return None"
   ]
  },
  {
   "cell_type": "code",
   "execution_count": 98,
   "metadata": {},
   "outputs": [],
   "source": [
    "# This function return Array of the questions ans answers\n",
    "def NumOfChoicesAndQuestion(Columns , Rows , Radius):\n",
    "    NumberOfChoices=0\n",
    "    AverageOfChoices = []\n",
    "    NumberOfQuestions=0\n",
    "    AverageOfQuestions = []\n",
    "    \n",
    "    Count = 0\n",
    "    Sum = 0\n",
    "    for i in range(len(Columns)-1):\n",
    "        if abs(Columns[i]-Columns[i+1]) < int(Radius):      # each circule must be far from the another by 3 \n",
    "            Count = Count+1\n",
    "            Sum = Sum+Columns[i]\n",
    "        else:\n",
    "            if Count >= 2:                           # 3 Circules at least in one column\n",
    "                AverageOfChoices.append(int(Sum/Count))\n",
    "                NumberOfChoices = NumberOfChoices+1\n",
    "            Sum = 0\n",
    "            Count = 0\n",
    "            \n",
    "    if Count >= 2:  \n",
    "        AverageOfChoices.append(int(Sum/Count))\n",
    "        NumberOfChoices = NumberOfChoices+1\n",
    "    Sum = 0\n",
    "    Count = 0\n",
    "                \n",
    "        \n",
    "    for i in range(len(Rows)-1):\n",
    "        if abs(Rows[i]-Rows[i+1]) < int(Radius):            # each circule must be far from the another by 3\n",
    "            Count = Count+1\n",
    "            Sum = Sum+Rows[i]\n",
    "        else:\n",
    "            if Count >= 2:                         # 3 Circules at least in one rows\n",
    "                AverageOfQuestions.append(int(Sum/Count))\n",
    "                NumberOfQuestions = NumberOfQuestions+1\n",
    "            Sum = 0\n",
    "            Count = 0\n",
    "       \n",
    "    if Count >= 2:\n",
    "        AverageOfQuestions.append(int(Sum/Count))\n",
    "        NumberOfQuestions = NumberOfQuestions+1\n",
    "    Sum = 0\n",
    "    Count = 0\n",
    "                \n",
    "    return [NumberOfChoices , NumberOfQuestions , AverageOfChoices , AverageOfQuestions]"
   ]
  },
  {
   "cell_type": "code",
   "execution_count": 99,
   "metadata": {},
   "outputs": [],
   "source": [
    "# This function take the column and the row of an answer and detect of which \n",
    "# question this answer belong and what is the answer (A,B,C,D,...)\n",
    "def GetInformationOfAnswer(column, row , AverageOfChoices , AverageOfQuestions,Radius):\n",
    "    Question = 0\n",
    "    for i in range(len(AverageOfQuestions)):\n",
    "        if abs(row - AverageOfQuestions[i]) < int(Radius):\n",
    "            Question = i+1\n",
    "            break\n",
    "\n",
    "\n",
    "    Answer = 0\n",
    "    for i in range(len(AverageOfChoices)):\n",
    "        if abs(column - AverageOfChoices[i]) < int(Radius):\n",
    "            Answer = i+1\n",
    "            break\n",
    "    return [Question , Answer]"
   ]
  },
  {
   "cell_type": "code",
   "execution_count": 100,
   "metadata": {},
   "outputs": [],
   "source": [
    "#this function return only the row and the column of each answer\n",
    "def GetOnlyAnswer(Image , minR , maxR):\n",
    "\n",
    "    kernel = cv2.getStructuringElement(cv2.MORPH_ELLIPSE,(3,3))\n",
    "    \n",
    "    img_erosion = cv2.morphologyEx(Image, cv2.MORPH_DILATE , kernel)\n",
    "    img_erosion = cv2.morphologyEx(img_erosion, cv2.MORPH_DILATE , kernel)\n",
    "    img_erosion = cv2.morphologyEx(img_erosion, cv2.MORPH_DILATE , kernel)\n",
    "\n",
    "    img_erosion = cv2.morphologyEx(img_erosion, cv2.MORPH_ERODE , kernel)\n",
    "    img_erosion = cv2.morphologyEx(img_erosion, cv2.MORPH_ERODE , kernel)\n",
    "    img_erosion = cv2.morphologyEx(img_erosion, cv2.MORPH_ERODE , kernel)\n",
    "\n",
    "    img_erosion = cv2.GaussianBlur(img_erosion,(5,5),cv2.BORDER_DEFAULT)\n",
    "    img_erosion = cv2.GaussianBlur(img_erosion,(5,5),cv2.BORDER_DEFAULT)\n",
    "    img_erosion = cv2.GaussianBlur(img_erosion,(5,5),cv2.BORDER_DEFAULT)\n",
    "    \n",
    "#     show(img_erosion)\n",
    "    \n",
    "    Circles = cv2.HoughCircles(img_erosion, cv2.HOUGH_GRADIENT, 1.2, 10 , param1=50 , param2=20 , minRadius=minR , maxRadius=maxR)\n",
    "    return [Circles, img_erosion]"
   ]
  },
  {
   "cell_type": "code",
   "execution_count": 101,
   "metadata": {},
   "outputs": [],
   "source": [
    "# This function read the file of model answer\n",
    "def ReadModelAnswer(File):\n",
    "    File = \"modelanswers/\"+File\n",
    "    f= open(File,\"r\")\n",
    "    CorrectAnswer =f.readlines()\n",
    "    for i in range(len(CorrectAnswer)):\n",
    "        CorrectAnswer[i] = CorrectAnswer[i].strip(); \n",
    "    return CorrectAnswer\n"
   ]
  },
  {
   "cell_type": "code",
   "execution_count": 102,
   "metadata": {},
   "outputs": [],
   "source": [
    "def BoundAnswers(Answer , Image):\n",
    "    plt.rcParams[\"figure.figsize\"] = (16,16)\n",
    "    if Answer is not None: \n",
    "        for i in Answer[0,:]:\n",
    "            cv2.circle(Image, (i[0],i[1]), i[2], (0,255,0), 2) \n",
    "    plt.imshow(Image)\n",
    "    plt.show()"
   ]
  },
  {
   "cell_type": "code",
   "execution_count": 103,
   "metadata": {},
   "outputs": [],
   "source": [
    "def ModifyLetterAndNumMap(AllAnswer ,NumOfRows ,NumOfChoices , NumOfQuestions):\n",
    "    Letters = {1:\"A\" , 2:\"B\",3:\"C\" , 4:\"D\",5:\"E\" , 6:\"F\"}\n",
    "    if NumOfRows == 1:\n",
    "        for i in range(len(AllAnswer)):\n",
    "            AllAnswer[i][1] = Letters.get(AllAnswer[i][1])\n",
    "            \n",
    "    elif NumOfRows == 2:\n",
    "        Segment = NumOfChoices/2\n",
    "        for i in range(len(AllAnswer)):\n",
    "            if AllAnswer[i][1] > Segment:\n",
    "                AllAnswer[i][0] = AllAnswer[i][0]+NumOfQuestions\n",
    "                AllAnswer[i][1] = int(AllAnswer[i][1] - Segment)\n",
    "            AllAnswer[i][1] = Letters.get(AllAnswer[i][1])\n",
    "            \n",
    "    elif NumOfRows == 3:\n",
    "        Segment = NumOfChoices/3\n",
    "        for i in range(len(AllAnswer)):\n",
    "            if AllAnswer[i][1] > 2*Segment:\n",
    "                AllAnswer[i][0] = AllAnswer[i][0]+(2*NumOfQuestions)\n",
    "                AllAnswer[i][1] = int(AllAnswer[i][1] - (2*Segment))\n",
    "                \n",
    "            elif AllAnswer[i][1] > Segment:\n",
    "                AllAnswer[i][0] = AllAnswer[i][0]+(NumOfQuestions)\n",
    "                AllAnswer[i][1] = int(AllAnswer[i][1] - (Segment))\n",
    "                \n",
    "            AllAnswer[i][1] = Letters.get(AllAnswer[i][1])\n",
    "    return AllAnswer"
   ]
  },
  {
   "cell_type": "code",
   "execution_count": 104,
   "metadata": {},
   "outputs": [],
   "source": [
    "def RemoveDoublecate(AllAnswer):\n",
    "    for i in range(len(AllAnswer)):\n",
    "        for j in range(len(AllAnswer)):\n",
    "            if (i != j):\n",
    "                if(AllAnswer[i][0] == AllAnswer[j][0]):\n",
    "                    AllAnswer[i][1] = None\n",
    "                    AllAnswer[j][1] = None\n",
    "    return AllAnswer"
   ]
  },
  {
   "cell_type": "code",
   "execution_count": 105,
   "metadata": {},
   "outputs": [],
   "source": [
    "def CalculateGrade(AllAnswer , CorrectAnswer , QuestionsStates):\n",
    "    Grade = 0\n",
    "    for i in range(len(AllAnswer)):\n",
    "        if CorrectAnswer[AllAnswer[i][0]-1] == AllAnswer[i][1]:\n",
    "            QuestionsStates[AllAnswer[i][0]-1] = True\n",
    "            Grade = Grade+1\n",
    "        else:\n",
    "            QuestionsStates[AllAnswer[i][0]-1] = False\n",
    "            \n",
    "    return [Grade,QuestionsStates]"
   ]
  },
  {
   "cell_type": "code",
   "execution_count": 148,
   "metadata": {},
   "outputs": [],
   "source": [
    "def QuestionAndItsAnswer(OnlyAnswer ,AverageOfChoices , AverageOfQuestions,Radius):\n",
    "    AllAnswer = []\n",
    "    for i in OnlyAnswer[0]:\n",
    "        answer = GetInformationOfAnswer( i[0],i[1], AverageOfChoices , AverageOfQuestions,Radius)\n",
    "        if(answer[0] > 0 and answer[1] > 0):\n",
    "            AllAnswer.append([answer[0] , answer[1]])\n",
    "        \n",
    "    return AllAnswer"
   ]
  },
  {
   "cell_type": "code",
   "execution_count": 107,
   "metadata": {},
   "outputs": [],
   "source": [
    "def DetectRaduisAverage(Image , Original):\n",
    "    AllCircles = GetOnlyAnswer(Image , 2 , 30)\n",
    "    Circles = AllCircles[0]\n",
    "#     Circles = cv2.HoughCircles(Image, cv2.HOUGH_GRADIENT, 1.2, 10 , param1=50 , param2=20 , minRadius=3 , maxRadius=12)\n",
    "    if Circles is not None:\n",
    "        Radius = Circles[0][:,2]\n",
    "        SumRadius = Radius.sum()\n",
    "        RadiusAverage = int(SumRadius/len(Radius))\n",
    "#         BoundAnswers(Circles , Original)\n",
    "        return [RadiusAverage,Circles]\n",
    "    else:\n",
    "        return None"
   ]
  },
  {
   "cell_type": "code",
   "execution_count": 108,
   "metadata": {},
   "outputs": [],
   "source": [
    "def MaxFun(AllAnswer):\n",
    "    ans = []\n",
    "    for i in AllAnswer:\n",
    "        ans.append(int(i[0]))\n",
    "\n",
    "    return max(ans)"
   ]
  },
  {
   "cell_type": "code",
   "execution_count": 136,
   "metadata": {},
   "outputs": [],
   "source": [
    "def Write(Grade , Name  , Message, QuestionsStates):\n",
    "    \n",
    "#     from openpyxl import Workbook\n",
    "#     workbook = Workbook()\n",
    "#     sheet = workbook.active\n",
    "#     RR = []\n",
    "#     RR.append(\"Name\")\n",
    "#     RR.append(\"Grade(\"+ str(len(QuestionsStates))+\")\")\n",
    "#     RR.append(\"Message\")\n",
    "    \n",
    "#     for i in range (1,61):\n",
    "#         RR.append(\"Question\"+str(i))\n",
    "    \n",
    "#     sheet.append(RR)\n",
    "#     workbook.save(filename=\"output/Sheet.xlsx\")\n",
    "    \n",
    "    \n",
    "    \n",
    "    \n",
    "    from openpyxl import load_workbook\n",
    "    workbook = load_workbook(filename=\"output/Sheet.xlsx\")\n",
    "    sheet = workbook.active\n",
    "    R = []\n",
    "    R.append(Name)\n",
    "    R.append(Grade)\n",
    "    R.append(Message)\n",
    "    \n",
    "    for i in range(len(QuestionsStates)):\n",
    "        if QuestionsStates[i] == 1:\n",
    "            R.append(\"True\")\n",
    "        else:\n",
    "            R.append(\"False\")\n",
    "    \n",
    "    sheet.append(R)\n",
    "    workbook.save(filename=\"output/Sheet.xlsx\")"
   ]
  },
  {
   "cell_type": "code",
   "execution_count": 127,
   "metadata": {},
   "outputs": [],
   "source": [
    "def test(NumOfChoices , NumOfQuestion , AverageOfChoices , AverageOfQuestions,Circles,Columns ,Rows):\n",
    "    print(NumOfChoices)\n",
    "    print(NumOfQuestion)\n",
    "    print(Rows)\n",
    "    print(Columns)"
   ]
  },
  {
   "cell_type": "code",
   "execution_count": 166,
   "metadata": {
    "scrolled": false
   },
   "outputs": [],
   "source": [
    "# The main\n",
    "def BubbleSheet(Exam , Model):\n",
    "# Read the image (Original and copy)\n",
    "    ReadImage = Read(Exam)\n",
    "    if ReadImage is not None:\n",
    "        Original = ReadImage[0]\n",
    "        ForInitialAnswer = Original.copy()\n",
    "        ForAllCircles = Original.copy()\n",
    "        ForOnlyAnswer = Original.copy()\n",
    "        Copy = ReadImage[1]\n",
    "\n",
    "        # AverageRadius\n",
    "        Initial = DetectRaduisAverage(Copy,ForInitialAnswer) ## Print the resulf of dilation and erosion and bound the answer \n",
    "        if Initial is not None:\n",
    "            AverageRadius = Initial[0]\n",
    "            ###\n",
    "            InitialCircles = Initial[1]\n",
    "            print(AverageRadius)                             ## Print the average radius\n",
    "        else:\n",
    "            Grade = 0\n",
    "            Message = \"No answer\"\n",
    "            print(Message)\n",
    "            Write(None , None , Message)\n",
    "\n",
    "        # TestDetection(Original,InitialCircles)\n",
    "        ###\n",
    "        if Initial is not None:\n",
    "            # get the columns and rows for all circules\n",
    "            Circles = GetCircules(Copy , AverageRadius-1 , AverageRadius+1)\n",
    "            if Circles is not None:\n",
    "                AllCircules = Circles[0]\n",
    "                Columns = Circles[1]\n",
    "                Rows = Circles[2]\n",
    "\n",
    "        #         ####\n",
    "        #         TestDetection(ForAllCircles , AllCircules)\n",
    "        #         ####\n",
    "                # get num of choices and question and the average of questions and answers\n",
    "                NumOfChoices = NumOfChoicesAndQuestion(Columns , Rows,AverageRadius)[0]\n",
    "                NumOfQuestions = NumOfChoicesAndQuestion(Columns , Rows,AverageRadius)[1]\n",
    "                AverageOfChoices = NumOfChoicesAndQuestion(Columns , Rows,AverageRadius)[2]\n",
    "                AverageOfQuestions = NumOfChoicesAndQuestion(Columns , Rows,AverageRadius)[3]\n",
    "\n",
    "                test(NumOfChoices , NumOfQuestions , AverageOfChoices , AverageOfQuestions,Circles,Columns , Rows)\n",
    "\n",
    "                # get only answers and draw them\n",
    "                OnlyAnswer = GetOnlyAnswer(Copy,AverageRadius-1 , AverageRadius+1)[0]\n",
    "                ImageAfterErosion = GetOnlyAnswer(Copy,AverageRadius-1 , AverageRadius+1)[1]\n",
    "\n",
    "                # Read model answer\n",
    "                CorrectAnswer = ReadModelAnswer(Model)\n",
    "\n",
    "                if OnlyAnswer is not None:\n",
    "                    # draw only answer\n",
    "                    BoundAnswers(OnlyAnswer , ForOnlyAnswer)\n",
    "\n",
    "                    # get the number of question and its answer\n",
    "                    AllAnswer = QuestionAndItsAnswer(OnlyAnswer , AverageOfChoices,AverageOfQuestions,AverageRadius)\n",
    "                    \n",
    "                    # Modify the number of question and its answer\n",
    "                    NumOfRows = math.ceil(len(CorrectAnswer)/NumOfQuestions)\n",
    "            #         print(NumOfRows)                                            ## Print number of rows\n",
    "                    AllAnswer = ModifyLetterAndNumMap(AllAnswer ,NumOfRows, NumOfChoices , NumOfQuestions)\n",
    "                    print(AllAnswer)\n",
    "                    AllAnswer = RemoveDoublecate(AllAnswer)\n",
    "                    if MaxFun(AllAnswer) > len(CorrectAnswer):\n",
    "                        Message = \"Error in the system , error (0)\"\n",
    "                        Grade = -1\n",
    "                    else:\n",
    "                        # Calculate the grade\n",
    "                        QuestionsStates = np.zeros(len(CorrectAnswer))\n",
    "                        Grade = CalculateGrade(AllAnswer , CorrectAnswer , QuestionsStates)[0]\n",
    "                        QuestionsStates = CalculateGrade(AllAnswer , CorrectAnswer , QuestionsStates)[1]\n",
    "                        print(QuestionsStates)\n",
    "                else:\n",
    "                    Grade = -1\n",
    "                    Message = \"Error in the system , error (1)\"\n",
    "                    print(Message)\n",
    "\n",
    "            else:\n",
    "                Message = \"Error in the system , error (2)\"\n",
    "                Grade = -1\n",
    "                print(Message)\n",
    "\n",
    "\n",
    "\n",
    "            # print The grade\n",
    "            if Grade == -1:\n",
    "                print(Message)\n",
    "                Write(None , None , Message , [])\n",
    "\n",
    "            elif Grade == 0:\n",
    "                print(\"Num of correct answers = 0\")\n",
    "                print(\"Percentage = 0%\")\n",
    "                Write(Grade , None , None , [])\n",
    "            else:\n",
    "                percentage = (Grade/len(CorrectAnswer) * 100)\n",
    "                percentage = (math.floor(percentage/.1))/10\n",
    "                print(\"Num of correct answers = \" + str(Grade))\n",
    "                print(\"Percentage = \" + str(percentage) + \"%\")\n",
    "                Write(Grade , None , None , QuestionsStates)\n",
    "    else:\n",
    "        Message = \"Can't load image\"\n",
    "        print(Message)\n",
    "        Write(None , None , Message , [])"
   ]
  },
  {
   "cell_type": "code",
   "execution_count": 167,
   "metadata": {
    "scrolled": false
   },
   "outputs": [
    {
     "name": "stdout",
     "output_type": "stream",
     "text": [
      "Can't load image\n"
     ]
    }
   ],
   "source": [
    "# BubbleSheet(\"Two0.png\" , \"Two0.txt\")\n",
    "# print(\"=================================================\")\n",
    "# BubbleSheet(\"Four0.png\" , \"Four0.txt\")\n",
    "# print(\"=================================================\")\n",
    "# BubbleSheet(\"Five0.png\" , \"Five0.txt\")\n",
    "# print(\"=================================================\")\n",
    "# BubbleSheet(\"TwoThree0.png\" , \"TwoThree0.txt\")\n",
    "# print(\"=================================================\")\n",
    "# BubbleSheet(\"FourOne0.png\" , \"FourOne0.txt\")\n",
    "# print(\"=================================================\")\n",
    "# BubbleSheet(\"CameraTwo0.jpeg\" , \"Two0.txt\")\n",
    "\n",
    "BubbleSheet(\"CameraFiveFar0.jpeg\" , \"Five0.txt\")"
   ]
  },
  {
   "cell_type": "markdown",
   "metadata": {},
   "source": [
    "# Some Notes"
   ]
  },
  {
   "cell_type": "markdown",
   "metadata": {},
   "source": [
    "### 1)The function which detect circules must modify the raduis and i will make the min dis between two circles to be 10\n",
    "### 2) I must get the average radius\n",
    "### 3)I must handel if there is no circules\n",
    "### 4) in the main if you find (###) it mean that this section is just test"
   ]
  },
  {
   "cell_type": "code",
   "execution_count": null,
   "metadata": {},
   "outputs": [],
   "source": [
    "test = cv2.getStructuringElement(cv2.MORPH_ELLIPSE,(5,5))\n",
    "print(test)"
   ]
  },
  {
   "cell_type": "code",
   "execution_count": null,
   "metadata": {},
   "outputs": [],
   "source": [
    "img = Read(\"input44.jpg\")[1]\n",
    "img = hist_eq(img)\n",
    "plt.imshow(img)\n",
    "plt.show()"
   ]
  },
  {
   "cell_type": "code",
   "execution_count": 26,
   "metadata": {},
   "outputs": [
    {
     "name": "stdout",
     "output_type": "stream",
     "text": [
      "[[4, None], [4, None], [12, 'D'], [29, 'A'], [10, 'D'], [23, 'B'], [11, 'C'], [6, 'C'], [8, 'C'], [21, 'A'], [7, 'B'], [30, 'C'], [3, 'B'], [32, 'B'], [1, 'A'], [14, 'C']]\n"
     ]
    }
   ],
   "source": [
    "test = [[4, 'D'], [4, 'C'], [12, 'D'], [29, 'A'], [10, 'D'], [23, 'B'], [11, 'C'], [6, 'C'], [8, 'C'], [21, 'A'], [7, 'B'], [30, 'C'], [3, 'B'], [32, 'B'], [1, 'A'], [14, 'C']]\n",
    "test = RemoveDoublecate(test)\n",
    "print(test)"
   ]
  },
  {
   "cell_type": "code",
   "execution_count": 74,
   "metadata": {},
   "outputs": [
    {
     "data": {
      "image/png": "[encoded data removed]",
      "text/plain": [
       "<Figure size 1152x1152 with 1 Axes>"
      ]
     },
     "metadata": {
      "needs_background": "light"
     },
     "output_type": "display_data"
    }
   ],
   "source": [
    "Image = Read(\"input55.jpg\")[1]\n",
    "# img = Image[int(Image.shape[0]/1.5) : Image.shape[0], :]\n",
    "# img = cv2.equalizeHist(Image)\n",
    "\n",
    "image = cv2.threshold(Image,130,255,cv2.THRESH_BINARY)[1]\n",
    "return image\n",
    "plt.imshow(image , cmap = \"gray\")\n",
    "plt.show()"
   ]
  },
  {
   "cell_type": "code",
   "execution_count": null,
   "metadata": {},
   "outputs": [],
   "source": []
  }
 ],
 "metadata": {
  "kernelspec": {
   "display_name": "Python 3",
   "language": "python",
   "name": "python3"
  },
  "language_info": {
   "codemirror_mode": {
    "name": "ipython",
    "version": 3
   },
   "file_extension": ".py",
   "mimetype": "text/x-python",
   "name": "python",
   "nbconvert_exporter": "python",
   "pygments_lexer": "ipython3",
   "version": "3.7.4"
  }
 },
 "nbformat": 4,
 "nbformat_minor": 2
}
