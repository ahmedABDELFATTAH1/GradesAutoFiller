{
 "cells": [
  {
   "cell_type": "code",
   "execution_count": 1,
   "metadata": {},
   "outputs": [
    {
     "name": "stderr",
     "output_type": "stream",
     "text": [
      "Using TensorFlow backend.\n",
      "WARNING: Logging before flag parsing goes to stderr.\n",
      "W1216 00:50:39.447544  3580 deprecation_wrapper.py:119] From C:\\ProgramData\\Anaconda3\\lib\\site-packages\\keras\\backend\\tensorflow_backend.py:541: The name tf.placeholder is deprecated. Please use tf.compat.v1.placeholder instead.\n",
      "\n",
      "W1216 00:50:39.479548  3580 deprecation_wrapper.py:119] From C:\\ProgramData\\Anaconda3\\lib\\site-packages\\keras\\backend\\tensorflow_backend.py:4432: The name tf.random_uniform is deprecated. Please use tf.random.uniform instead.\n",
      "\n",
      "W1216 00:50:39.499544  3580 deprecation_wrapper.py:119] From C:\\ProgramData\\Anaconda3\\lib\\site-packages\\keras\\backend\\tensorflow_backend.py:66: The name tf.get_default_graph is deprecated. Please use tf.compat.v1.get_default_graph instead.\n",
      "\n",
      "W1216 00:50:39.503540  3580 deprecation_wrapper.py:119] From C:\\ProgramData\\Anaconda3\\lib\\site-packages\\keras\\backend\\tensorflow_backend.py:148: The name tf.placeholder_with_default is deprecated. Please use tf.compat.v1.placeholder_with_default instead.\n",
      "\n",
      "W1216 00:50:39.515547  3580 deprecation.py:506] From C:\\ProgramData\\Anaconda3\\lib\\site-packages\\keras\\backend\\tensorflow_backend.py:3733: calling dropout (from tensorflow.python.ops.nn_ops) with keep_prob is deprecated and will be removed in a future version.\n",
      "Instructions for updating:\n",
      "Please use `rate` instead of `keep_prob`. Rate should be set to `rate = 1 - keep_prob`.\n",
      "W1216 00:50:39.599536  3580 deprecation_wrapper.py:119] From C:\\ProgramData\\Anaconda3\\lib\\site-packages\\keras\\backend\\tensorflow_backend.py:190: The name tf.get_default_session is deprecated. Please use tf.compat.v1.get_default_session instead.\n",
      "\n",
      "W1216 00:50:39.699536  3580 deprecation_wrapper.py:119] From C:\\ProgramData\\Anaconda3\\lib\\site-packages\\keras\\optimizers.py:793: The name tf.train.Optimizer is deprecated. Please use tf.compat.v1.train.Optimizer instead.\n",
      "\n",
      "W1216 00:50:39.839561  3580 deprecation.py:323] From C:\\ProgramData\\Anaconda3\\lib\\site-packages\\tensorflow\\python\\ops\\math_grad.py:1250: add_dispatch_support.<locals>.wrapper (from tensorflow.python.ops.array_ops) is deprecated and will be removed in a future version.\n",
      "Instructions for updating:\n",
      "Use tf.where in 2.0, which has the same broadcast rule as np.where\n"
     ]
    }
   ],
   "source": [
    "from DigitsModule import *"
   ]
  },
  {
   "cell_type": "code",
   "execution_count": 9,
   "metadata": {},
   "outputs": [
    {
     "name": "stderr",
     "output_type": "stream",
     "text": [
      "C:\\ProgramData\\Anaconda3\\lib\\site-packages\\skimage\\feature\\_hog.py:150: skimage_deprecation: Default value of `block_norm`==`L1` is deprecated and will be changed to `L2-Hys` in v0.15. To supress this message specify explicitly the normalization method.\n",
      "  skimage_deprecation)\n",
      "C:\\ProgramData\\Anaconda3\\lib\\site-packages\\skimage\\feature\\_hog.py:150: skimage_deprecation: Default value of `block_norm`==`L1` is deprecated and will be changed to `L2-Hys` in v0.15. To supress this message specify explicitly the normalization method.\n",
      "  skimage_deprecation)\n",
      "C:\\ProgramData\\Anaconda3\\lib\\site-packages\\skimage\\feature\\_hog.py:150: skimage_deprecation: Default value of `block_norm`==`L1` is deprecated and will be changed to `L2-Hys` in v0.15. To supress this message specify explicitly the normalization method.\n",
      "  skimage_deprecation)\n"
     ]
    },
    {
     "data": {
      "text/plain": [
       "'10'"
      ]
     },
     "execution_count": 9,
     "metadata": {},
     "output_type": "execute_result"
    }
   ],
   "source": [
    "img = io.imread(\"test.tif\")\n",
    "rec_cell(img)"
   ]
  },
  {
   "cell_type": "code",
   "execution_count": 42,
   "metadata": {},
   "outputs": [],
   "source": [
    "def rec_cell(img):\n",
    "    digit_strv1 = \"\"\n",
    "    digit_strv2 = \"\"\n",
    "    img = rgb2gray(img)\n",
    "    NotThin = (np.amax(thin(img)-img))\n",
    "    \n",
    "    imgv1 = np.copy(img)\n",
    "    imgv1 = erosion(imgv1)\n",
    "    imgv1 = binary_dilation(imgv1)\n",
    "    digitsv1 = digits_locv1(imgv1)\n",
    "    #show_images(digitsv1)\n",
    "    \n",
    "    imgv2 = np.copy(img)\n",
    "    imgv2 = rgb2gray(imgv2)\n",
    "    imgv2 = erosion(imgv2)\n",
    "    digitsv2 = digits_locv1(imgv2)\n",
    "    #show_images(digitsv2)\n",
    "    for dig in digitsv1:\n",
    "        digit_strv1 += str(predict_img(dig))\n",
    "    \n",
    "    for dig in digitsv2:\n",
    "        digit_strv2 += str(predict_img(dig))\n",
    "    \n",
    "    if(len(digit_strv1)!= \"\" and NotThin != 0):\n",
    "        return digit_strv1\n",
    "    else:\n",
    "        return digit_strv2"
   ]
  },
  {
   "cell_type": "code",
   "execution_count": 36,
   "metadata": {},
   "outputs": [],
   "source": [
    "def digits_locv1(img,X=28,Y=28):\n",
    "    \"\"\"\n",
    "    Localization of the digits , it separates each digit into a fixed size output\n",
    "    Arugments :\n",
    "    -- img : numpy array\n",
    "    Returns\n",
    "    -- digits :  Array of fixed size matrices for each digit .\n",
    "    \"\"\"\n",
    "    X = int(X/2)\n",
    "    Y = int(Y/2)\n",
    "    img = rgb2gray(img) \n",
    "    img = rotate(img,270,resize=True)\n",
    "    img_hist = histogram(img, nbins=2)\n",
    "    # Checking the image`s background must be black and digits be white\n",
    "    # Negative Transformation in case of white (objects) is more than black (background)\n",
    "    if ( img_hist[0][0] < img_hist[0][1] ):\n",
    "        img = 1 - img \n",
    "    \n",
    "    digits = []\n",
    "    # Find contours for each digit has its own contour\n",
    "    contours = find_contours(img, 0.7,fully_connected='high',positive_orientation='high')\n",
    "    for n, contour in enumerate(contours):\n",
    "        \n",
    "        #print(len(contour))\n",
    "        if(len(contour) < 50) :\n",
    "            continue\n",
    "        Ymax = np.amax(contour[:, 0])\n",
    "        Ymin = np.amin(contour[:, 0])\n",
    "        Xmax = np.amax(contour[:, 1])\n",
    "        Xmin = np.amin(contour[:, 1])\n",
    "        digit_seg = ([img[int(Ymin): int(Ymax)+1, int(Xmin): int(Xmax)+1]])\n",
    "        digit = np.zeros([X*2,Y*2])\n",
    "        h,w = np.array(digit_seg[0]).shape\n",
    "        if(h > 28 or w>28):\n",
    "            continue\n",
    "        digit[X-int((h+1)/2):X+int(h/2) ,Y-int((w+1)/2):Y+int(w/2) ,  ] = digit_seg[0]\n",
    "        digit = rotate(digit,90,resize=True)\n",
    "        digit = erosion(digit)\n",
    "        digit = dilation(digit)\n",
    "        digits.append(digit)\n",
    "        \n",
    "    return digits"
   ]
  },
  {
   "cell_type": "code",
   "execution_count": null,
   "metadata": {},
   "outputs": [],
   "source": []
  }
 ],
 "metadata": {
  "kernelspec": {
   "display_name": "Python 3",
   "language": "python",
   "name": "python3"
  },
  "language_info": {
   "codemirror_mode": {
    "name": "ipython",
    "version": 3
   },
   "file_extension": ".py",
   "mimetype": "text/x-python",
   "name": "python",
   "nbconvert_exporter": "python",
   "pygments_lexer": "ipython3",
   "version": "3.7.3"
  }
 },
 "nbformat": 4,
 "nbformat_minor": 2
}
