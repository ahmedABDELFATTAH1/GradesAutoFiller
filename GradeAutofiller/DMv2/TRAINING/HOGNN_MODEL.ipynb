{
 "cells": [
  {
   "cell_type": "code",
   "execution_count": 20,
   "metadata": {},
   "outputs": [],
   "source": [
    "import numpy as np \n",
    "import pandas as pd\n",
    "from skimage.feature import hog\n",
    "import matplotlib.pyplot as plt\n",
    "from sklearn.model_selection import train_test_split\n",
    "from sklearn.naive_bayes import GaussianNB\n",
    "from sklearn.model_selection import cross_val_score\n",
    "from sklearn.metrics import accuracy_score, roc_curve\n",
    "from sklearn.preprocessing import normalize\n",
    "from keras.models import Sequential\n",
    "from keras.layers import Dense, Dropout\n",
    "from keras.wrappers.scikit_learn import KerasClassifier\n",
    "from skimage.morphology import binary_erosion, binary_dilation, binary_closing,skeletonize, thin,erosion,dilation\n",
    "import pickle\n",
    "from commonfunctions import *"
   ]
  },
  {
   "cell_type": "code",
   "execution_count": 21,
   "metadata": {},
   "outputs": [
    {
     "data": {
      "text/plain": [
       "array([[7., 0., 0., ..., 0., 0., 0.],\n",
       "       [2., 0., 0., ..., 0., 0., 0.],\n",
       "       [1., 0., 0., ..., 0., 0., 0.],\n",
       "       ...,\n",
       "       [9., 0., 0., ..., 0., 0., 0.],\n",
       "       [5., 0., 0., ..., 0., 0., 0.],\n",
       "       [9., 0., 0., ..., 0., 0., 0.]])"
      ]
     },
     "execution_count": 21,
     "metadata": {},
     "output_type": "execute_result"
    }
   ],
   "source": [
    "image_size = 28 # width and length\n",
    "classes_n = 10 #  i.e. 0, 1, 2, 3, ..., 9\n",
    "image_pixels = image_size * image_size\n",
    "data_path = \"data/\"\n",
    "train_data = np.loadtxt(data_path + \"train.csv\", \n",
    "                        delimiter=\",\")\n",
    "test_data = np.loadtxt(data_path + \"test.csv\", \n",
    "                       delimiter=\",\") \n",
    "test_data[:10]"
   ]
  },
  {
   "cell_type": "code",
   "execution_count": 85,
   "metadata": {},
   "outputs": [],
   "source": [
    "Xtrain = train_data[:,1:]\n",
    "Xtest = test_data[:,1:]\n",
    "Ytrain = np.asfarray(train_data[:, :1])\n",
    "Ytest = np.asfarray(test_data[:, :1])\n",
    "label_encoding = np.arange(10)\n",
    "Ytrain_oh = (label_encoding == Ytrain).astype(np.int)\n",
    "Ytest_oh = (label_encoding == Ytest).astype(np.int)\n"
   ]
  },
  {
   "cell_type": "code",
   "execution_count": 86,
   "metadata": {},
   "outputs": [],
   "source": [
    "# pickle data SAVEING CODE\n",
    "with open(\"data/pickled_mnist.pkl\", \"bw\") as fh:\n",
    "    data = (Xtrain, \n",
    "            Xtest, \n",
    "            Ytrain,\n",
    "            Ytest,\n",
    "            Ytrain_oh,\n",
    "            Ytest_oh)\n",
    "    pickle.dump(data, fh)"
   ]
  },
  {
   "cell_type": "code",
   "execution_count": null,
   "metadata": {},
   "outputs": [],
   "source": [
    "# LOADING CODE\n",
    "with open(\"data/pickled_mnist.pkl\", \"br\") as fh:\n",
    "    data = pickle.load(fh)\n",
    "\n",
    "Xtrain = data[0]\n",
    "Xtest = data[1]\n",
    "Ytrain = data[2]\n",
    "Ytest = data[3]\n",
    "Ytrain_oh = data[4]\n",
    "Ytest_oh = data[5]\n"
   ]
  },
  {
   "cell_type": "code",
   "execution_count": 26,
   "metadata": {},
   "outputs": [
    {
     "data": {
      "image/png": "[encoded data removed]",
      "text/plain": [
       "<Figure size 1296x864 with 3 Axes>"
      ]
     },
     "metadata": {
      "needs_background": "light"
     },
     "output_type": "display_data"
    }
   ],
   "source": [
    "imgs = []\n",
    "labels = []\n",
    "for i in range(3):\n",
    "    img = Xtrain[i].reshape((28,28))\n",
    "    labels.append(str(Ytrain[i]))\n",
    "    imgs.append(img)\n",
    "show_images(imgs,labels)\n"
   ]
  },
  {
   "cell_type": "code",
   "execution_count": 79,
   "metadata": {},
   "outputs": [
    {
     "name": "stderr",
     "output_type": "stream",
     "text": [
      "WARNING: Logging before flag parsing goes to stderr.\n",
      "W1215 22:18:03.710193  7000 deprecation_wrapper.py:119] From C:\\ProgramData\\Anaconda3\\lib\\site-packages\\keras\\backend\\tensorflow_backend.py:66: The name tf.get_default_graph is deprecated. Please use tf.compat.v1.get_default_graph instead.\n",
      "\n",
      "W1215 22:18:07.877116  7000 deprecation_wrapper.py:119] From C:\\ProgramData\\Anaconda3\\lib\\site-packages\\keras\\backend\\tensorflow_backend.py:541: The name tf.placeholder is deprecated. Please use tf.compat.v1.placeholder instead.\n",
      "\n",
      "W1215 22:18:09.208437  7000 deprecation_wrapper.py:119] From C:\\ProgramData\\Anaconda3\\lib\\site-packages\\keras\\backend\\tensorflow_backend.py:4432: The name tf.random_uniform is deprecated. Please use tf.random.uniform instead.\n",
      "\n",
      "W1215 22:18:10.576401  7000 deprecation_wrapper.py:119] From C:\\ProgramData\\Anaconda3\\lib\\site-packages\\keras\\backend\\tensorflow_backend.py:148: The name tf.placeholder_with_default is deprecated. Please use tf.compat.v1.placeholder_with_default instead.\n",
      "\n",
      "W1215 22:18:10.914674  7000 deprecation.py:506] From C:\\ProgramData\\Anaconda3\\lib\\site-packages\\keras\\backend\\tensorflow_backend.py:3733: calling dropout (from tensorflow.python.ops.nn_ops) with keep_prob is deprecated and will be removed in a future version.\n",
      "Instructions for updating:\n",
      "Please use `rate` instead of `keep_prob`. Rate should be set to `rate = 1 - keep_prob`.\n",
      "W1215 22:18:11.791813  7000 deprecation_wrapper.py:119] From C:\\ProgramData\\Anaconda3\\lib\\site-packages\\keras\\optimizers.py:793: The name tf.train.Optimizer is deprecated. Please use tf.compat.v1.train.Optimizer instead.\n",
      "\n",
      "W1215 22:18:11.925556  7000 deprecation_wrapper.py:119] From C:\\ProgramData\\Anaconda3\\lib\\site-packages\\keras\\backend\\tensorflow_backend.py:3576: The name tf.log is deprecated. Please use tf.math.log instead.\n",
      "\n"
     ]
    }
   ],
   "source": [
    "model = Sequential()\n",
    "model.add(Dense(100, input_dim=288, activation='relu'))\n",
    "model.add(Dropout(0.2))\n",
    "model.add(Dense(100, activation='relu'))\n",
    "model.add(Dropout(0.2))\n",
    "model.add(Dense(10, activation='softmax'))\n",
    "model.compile(loss='categorical_crossentropy', \n",
    "              optimizer='adam', metrics=['accuracy'])\n"
   ]
  },
  {
   "cell_type": "code",
   "execution_count": 77,
   "metadata": {},
   "outputs": [],
   "source": [
    "def hog_features(X, imgshape=(28, 28), pixels_per_cell=(6, 6)):\n",
    "    features = []\n",
    "    for row in X:\n",
    "        img = row.reshape(imgshape)\n",
    "        img_feature = hog(img, orientations=8, pixels_per_cell=pixels_per_cell, cells_per_block=(2, 2))\n",
    "        features.append(img_feature)\n",
    "    return np.array(features)"
   ]
  },
  {
   "cell_type": "code",
   "execution_count": null,
   "metadata": {},
   "outputs": [],
   "source": [
    "hog_features(Xtrain[1,:].reshape(1,-1))"
   ]
  },
  {
   "cell_type": "code",
   "execution_count": 87,
   "metadata": {},
   "outputs": [
    {
     "name": "stderr",
     "output_type": "stream",
     "text": [
      "C:\\ProgramData\\Anaconda3\\lib\\site-packages\\skimage\\feature\\_hog.py:150: skimage_deprecation: Default value of `block_norm`==`L1` is deprecated and will be changed to `L2-Hys` in v0.15. To supress this message specify explicitly the normalization method.\n",
      "  skimage_deprecation)\n"
     ]
    },
    {
     "name": "stdout",
     "output_type": "stream",
     "text": [
      "Epoch 1/20\n",
      " - 8s - loss: 0.0368 - acc: 0.9883\n",
      "Epoch 2/20\n",
      " - 3s - loss: 0.0371 - acc: 0.9882\n",
      "Epoch 3/20\n",
      " - 2s - loss: 0.0356 - acc: 0.9889\n",
      "Epoch 4/20\n",
      " - 2s - loss: 0.0343 - acc: 0.9888\n",
      "Epoch 5/20\n",
      " - 2s - loss: 0.0321 - acc: 0.9895\n",
      "Epoch 6/20\n",
      " - 2s - loss: 0.0333 - acc: 0.9891\n",
      "Epoch 7/20\n",
      " - 3s - loss: 0.0299 - acc: 0.9900\n",
      "Epoch 8/20\n",
      " - 2s - loss: 0.0297 - acc: 0.9895\n",
      "Epoch 9/20\n",
      " - 2s - loss: 0.0297 - acc: 0.9901\n",
      "Epoch 10/20\n",
      " - 2s - loss: 0.0290 - acc: 0.9903\n",
      "Epoch 11/20\n",
      " - 2s - loss: 0.0289 - acc: 0.9904\n",
      "Epoch 12/20\n",
      " - 3s - loss: 0.0258 - acc: 0.9919\n",
      "Epoch 13/20\n",
      " - 2s - loss: 0.0264 - acc: 0.9911\n",
      "Epoch 14/20\n",
      " - 2s - loss: 0.0253 - acc: 0.9916\n",
      "Epoch 15/20\n",
      " - 2s - loss: 0.0252 - acc: 0.9914\n",
      "Epoch 16/20\n",
      " - 2s - loss: 0.0247 - acc: 0.9918\n",
      "Epoch 17/20\n",
      " - 2s - loss: 0.0249 - acc: 0.9914\n",
      "Epoch 18/20\n",
      " - 2s - loss: 0.0241 - acc: 0.9918\n",
      "Epoch 19/20\n",
      " - 2s - loss: 0.0249 - acc: 0.9915\n",
      "Epoch 20/20\n",
      " - 2s - loss: 0.0234 - acc: 0.9920\n"
     ]
    }
   ],
   "source": [
    "Xtrain_hog = hog_features(Xtrain)\n",
    "Xtest_hog = hog_features(Xtest)\n",
    "\n",
    "X_train_norm = normalize(Xtrain_hog)\n",
    "X_test_norm = normalize(Xtest_hog)\n",
    "history = model.fit(X_train_norm, Ytrain_oh,\n",
    "          batch_size=128, epochs=20,\n",
    "          verbose=2)"
   ]
  },
  {
   "cell_type": "code",
   "execution_count": 89,
   "metadata": {},
   "outputs": [
    {
     "name": "stdout",
     "output_type": "stream",
     "text": [
      "10000/10000 [==============================] - 4s 423us/step\n"
     ]
    },
    {
     "data": {
      "text/plain": [
       "[0.05718538095489348, 0.9844]"
      ]
     },
     "execution_count": 89,
     "metadata": {},
     "output_type": "execute_result"
    }
   ],
   "source": [
    "model.evaluate(X_test_norm,Ytest_oh)"
   ]
  },
  {
   "cell_type": "code",
   "execution_count": 94,
   "metadata": {},
   "outputs": [
    {
     "name": "stdout",
     "output_type": "stream",
     "text": [
      "Saved trained model as hogmodel.h5 \n"
     ]
    }
   ],
   "source": [
    "# saving the model\n",
    "model_name = 'hogmodel.h5'\n",
    "model.save(model_name)\n",
    "print('Saved trained model as %s ' % model_name)\n"
   ]
  },
  {
   "cell_type": "code",
   "execution_count": 97,
   "metadata": {},
   "outputs": [
    {
     "data": {
      "text/plain": [
       "<matplotlib.legend.Legend at 0x21287fc9b38>"
      ]
     },
     "execution_count": 97,
     "metadata": {},
     "output_type": "execute_result"
    },
    {
     "data": {
      "image/png": "[encoded data removed]",
      "text/plain": [
       "<Figure size 432x288 with 1 Axes>"
      ]
     },
     "metadata": {
      "needs_background": "light"
     },
     "output_type": "display_data"
    }
   ],
   "source": [
    "# plotting the metrics\n",
    "fig = plt.figure()\n",
    "plt.subplot(2,1,1)\n",
    "plt.plot(history.history['acc'])\n",
    "plt.title('model accuracy')\n",
    "plt.ylabel('accuracy')\n",
    "plt.xlabel('epoch')\n",
    "plt.legend(['train', 'test'], loc='lower right')\n"
   ]
  },
  {
   "cell_type": "code",
   "execution_count": 133,
   "metadata": {},
   "outputs": [
    {
     "name": "stderr",
     "output_type": "stream",
     "text": [
      "C:\\ProgramData\\Anaconda3\\lib\\site-packages\\skimage\\feature\\_hog.py:150: skimage_deprecation: Default value of `block_norm`==`L1` is deprecated and will be changed to `L2-Hys` in v0.15. To supress this message specify explicitly the normalization method.\n",
      "  skimage_deprecation)\n"
     ]
    },
    {
     "data": {
      "text/plain": [
       "0"
      ]
     },
     "execution_count": 133,
     "metadata": {},
     "output_type": "execute_result"
    }
   ],
   "source": [
    "def predict_img(img):\n",
    "    img = rgb2gray(img)\n",
    "    img = (img.reshape(1,-1))\n",
    "    Xhog = hog_features(img)\n",
    "    Xhog = normalize(Xhog)\n",
    "    Y = (model.predict(Xhog))\n",
    "    return (np.argmax(Y))\n",
    "    #hog_features(img.)\n",
    "\n",
    "tx = io.imread(\"test4.tif\")\n",
    "predict_img(tx)"
   ]
  },
  {
   "cell_type": "code",
   "execution_count": 134,
   "metadata": {},
   "outputs": [],
   "source": [
    "filename = 'hognn_model.sav'\n",
    "pickle.dump(model, open(filename, 'wb'))\n"
   ]
  },
  {
   "cell_type": "code",
   "execution_count": null,
   "metadata": {},
   "outputs": [],
   "source": [
    "hog_model = load_model(\"model_name\")\n",
    "loss_and_metrics = mnist_model.evaluate(X_test, Y_test, verbose=2)\n",
    "\n",
    "print(\"Test Loss\", loss_and_metrics[0])\n",
    "print(\"Test Accuracy\", loss_and_metrics[1])"
   ]
  }
 ],
 "metadata": {
  "kernelspec": {
   "display_name": "Python 3",
   "language": "python",
   "name": "python3"
  },
  "language_info": {
   "codemirror_mode": {
    "name": "ipython",
    "version": 3
   },
   "file_extension": ".py",
   "mimetype": "text/x-python",
   "name": "python",
   "nbconvert_exporter": "python",
   "pygments_lexer": "ipython3",
   "version": "3.7.3"
  }
 },
 "nbformat": 4,
 "nbformat_minor": 2
}
