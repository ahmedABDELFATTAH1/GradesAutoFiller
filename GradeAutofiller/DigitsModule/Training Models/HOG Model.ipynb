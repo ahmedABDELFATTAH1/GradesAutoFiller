{
 "cells": [
  {
   "cell_type": "code",
   "execution_count": 4,
   "metadata": {},
   "outputs": [
    {
     "name": "stderr",
     "output_type": "stream",
     "text": [
      "Using TensorFlow backend.\n"
     ]
    }
   ],
   "source": [
    "import numpy as np \n",
    "import pandas as pd\n",
    "from skimage.feature import hog\n",
    "import matplotlib.pyplot as plt\n",
    "from sklearn.model_selection import train_test_split\n",
    "from sklearn.naive_bayes import GaussianNB\n",
    "from sklearn.model_selection import cross_val_score\n",
    "from sklearn.metrics import accuracy_score, roc_curve\n",
    "from sklearn.preprocessing import normalize\n",
    "from keras.models import Sequential\n",
    "from keras.layers import Dense, Dropout\n",
    "from keras.wrappers.scikit_learn import KerasClassifier\n",
    "from commonfunctions import *\n",
    "import pickle"
   ]
  },
  {
   "cell_type": "code",
   "execution_count": 3,
   "metadata": {},
   "outputs": [],
   "source": [
    "df_train = pd.read_csv('train.csv')\n",
    "df_test = pd.read_csv('test.csv')\n",
    "\n",
    "X_train = df_train.drop(columns='label')\n",
    "X_test = df_test.copy()\n",
    "\n",
    "y_train = df_train['label']\n",
    "Y_train = pd.get_dummies(y_train)"
   ]
  },
  {
   "cell_type": "code",
   "execution_count": 6,
   "metadata": {},
   "outputs": [
    {
     "data": {
      "image/png": "[encoded data removed]",
      "text/plain": [
       "<Figure size 432x288 with 1 Axes>"
      ]
     },
     "metadata": {
      "needs_background": "light"
     },
     "output_type": "display_data"
    }
   ],
   "source": [
    "img = X_train.iloc[0].values.reshape((28, 28))\n",
    "plt.imshow(img, cmap='gray');"
   ]
  },
  {
   "cell_type": "code",
   "execution_count": 7,
   "metadata": {},
   "outputs": [],
   "source": [
    "def hog_features(X, imgshape=(28, 28), pixels_per_cell=(8, 8)):\n",
    "    features = []\n",
    "    for row in X:\n",
    "        img = row.reshape(imgshape)\n",
    "        img_feature = hog(img, orientations=8, pixels_per_cell=pixels_per_cell, cells_per_block=(1, 1))\n",
    "        features.append(img_feature)\n",
    "\n",
    "    return np.array(features)"
   ]
  },
  {
   "cell_type": "code",
   "execution_count": null,
   "metadata": {},
   "outputs": [],
   "source": [
    "X_train = hog_features(X_train.values, pixels_per_cell=(8, 8))\n",
    "X_test = hog_features(X_test.values, pixels_per_cell=(8, 8))"
   ]
  },
  {
   "cell_type": "code",
   "execution_count": null,
   "metadata": {},
   "outputs": [],
   "source": [
    "model = Sequential()\n",
    "model.add(Dense(100, input_dim=72, activation='relu'))\n",
    "model.add(Dropout(0.2))\n",
    "model.add(Dense(100, activation='relu'))\n",
    "model.add(Dropout(0.2))\n",
    "model.add(Dense(10, activation='softmax'))\n",
    "model.compile(loss='categorical_crossentropy', \n",
    "              optimizer='adam', metrics=['accuracy'])\n"
   ]
  },
  {
   "cell_type": "code",
   "execution_count": 10,
   "metadata": {},
   "outputs": [
    {
     "name": "stderr",
     "output_type": "stream",
     "text": [
      "W1207 17:39:24.906184  3500 deprecation.py:323] From C:\\ProgramData\\Anaconda3\\lib\\site-packages\\tensorflow\\python\\ops\\math_grad.py:1250: add_dispatch_support.<locals>.wrapper (from tensorflow.python.ops.array_ops) is deprecated and will be removed in a future version.\n",
      "Instructions for updating:\n",
      "Use tf.where in 2.0, which has the same broadcast rule as np.where\n"
     ]
    },
    {
     "name": "stdout",
     "output_type": "stream",
     "text": [
      "Epoch 1/20\n",
      "42000/42000 [==============================] - 20s 466us/step - loss: 0.4159 - acc: 0.8678\n",
      "Epoch 2/20\n",
      "42000/42000 [==============================] - 15s 368us/step - loss: 0.2425 - acc: 0.9226\n",
      "Epoch 3/20\n",
      "42000/42000 [==============================] - 16s 372us/step - loss: 0.2068 - acc: 0.9336\n",
      "Epoch 4/20\n",
      "42000/42000 [==============================] - 16s 369us/step - loss: 0.1901 - acc: 0.9394\n",
      "Epoch 5/20\n",
      "42000/42000 [==============================] - 16s 382us/step - loss: 0.1780 - acc: 0.9430\n",
      "Epoch 6/20\n",
      "42000/42000 [==============================] - 16s 375us/step - loss: 0.1655 - acc: 0.9460\n",
      "Epoch 7/20\n",
      "42000/42000 [==============================] - 16s 378us/step - loss: 0.1558 - acc: 0.9496\n",
      "Epoch 8/20\n",
      "42000/42000 [==============================] - 16s 391us/step - loss: 0.1516 - acc: 0.9509\n",
      "Epoch 9/20\n",
      "42000/42000 [==============================] - 16s 373us/step - loss: 0.1454 - acc: 0.9526\n",
      "Epoch 10/20\n",
      "42000/42000 [==============================] - 16s 372us/step - loss: 0.1412 - acc: 0.9546\n",
      "Epoch 11/20\n",
      "42000/42000 [==============================] - 16s 386us/step - loss: 0.1372 - acc: 0.9565\n",
      "Epoch 12/20\n",
      "42000/42000 [==============================] - 16s 392us/step - loss: 0.1360 - acc: 0.9557\n",
      "Epoch 13/20\n",
      "42000/42000 [==============================] - 16s 381us/step - loss: 0.1300 - acc: 0.9566\n",
      "Epoch 14/20\n",
      "42000/42000 [==============================] - 16s 382us/step - loss: 0.1308 - acc: 0.9568\n",
      "Epoch 15/20\n",
      "42000/42000 [==============================] - 16s 377us/step - loss: 0.1249 - acc: 0.9596\n",
      "Epoch 16/20\n",
      "42000/42000 [==============================] - 16s 388us/step - loss: 0.1250 - acc: 0.9594\n",
      "Epoch 17/20\n",
      "42000/42000 [==============================] - 16s 389us/step - loss: 0.1227 - acc: 0.9604\n",
      "Epoch 18/20\n",
      "42000/42000 [==============================] - 17s 398us/step - loss: 0.1195 - acc: 0.9611\n",
      "Epoch 19/20\n",
      "42000/42000 [==============================] - 16s 384us/step - loss: 0.1183 - acc: 0.9610\n",
      "Epoch 20/20\n",
      "42000/42000 [==============================] - 17s 396us/step - loss: 0.1195 - acc: 0.9610\n"
     ]
    }
   ],
   "source": [
    "X_train_normalized = normalize(X_train)\n",
    "history = model.fit(X_train_normalized, Y_train, epochs=20,\n",
    "                    batch_size=5, verbose=1)"
   ]
  },
  {
   "cell_type": "code",
   "execution_count": 11,
   "metadata": {},
   "outputs": [],
   "source": [
    "X_test_normalized = normalize(X_test)\n",
    "y_pred = model.predict_classes(X_test_normalized)"
   ]
  },
  {
   "cell_type": "code",
   "execution_count": 13,
   "metadata": {},
   "outputs": [
    {
     "name": "stderr",
     "output_type": "stream",
     "text": [
      "C:\\ProgramData\\Anaconda3\\lib\\site-packages\\skimage\\feature\\_hog.py:150: skimage_deprecation: Default value of `block_norm`==`L1` is deprecated and will be changed to `L2-Hys` in v0.15. To supress this message specify explicitly the normalization method.\n",
      "  skimage_deprecation)\n"
     ]
    },
    {
     "name": "stdout",
     "output_type": "stream",
     "text": [
      "[4]\n"
     ]
    },
    {
     "data": {
      "image/png": "[encoded data removed]",
      "text/plain": [
       "<Figure size 432x288 with 1 Axes>"
      ]
     },
     "metadata": {
      "needs_background": "light"
     },
     "output_type": "display_data"
    }
   ],
   "source": [
    "img = io.imread(\"test.tif\")\n",
    "io.imshow(img)\n",
    "img_features = hog(img, orientations=8, pixels_per_cell=(8, 8), cells_per_block=(1, 1))\n",
    "\n",
    "XDigit = np.array([img_features])\n",
    "XDigit = normalize(XDigit)\n",
    "y_pred = model.predict_classes(XDigit)\n",
    "print(y_pred)"
   ]
  },
  {
   "cell_type": "code",
   "execution_count": 14,
   "metadata": {},
   "outputs": [],
   "source": [
    "filename = 'hog_model.sav'\n",
    "pickle.dump(model, open(filename, 'wb'))\n"
   ]
  },
  {
   "cell_type": "code",
   "execution_count": null,
   "metadata": {},
   "outputs": [],
   "source": []
  }
 ],
 "metadata": {
  "kernelspec": {
   "display_name": "Python 3",
   "language": "python",
   "name": "python3"
  },
  "language_info": {
   "codemirror_mode": {
    "name": "ipython",
    "version": 3
   },
   "file_extension": ".py",
   "mimetype": "text/x-python",
   "name": "python",
   "nbconvert_exporter": "python",
   "pygments_lexer": "ipython3",
   "version": "3.7.3"
  }
 },
 "nbformat": 4,
 "nbformat_minor": 2
}
